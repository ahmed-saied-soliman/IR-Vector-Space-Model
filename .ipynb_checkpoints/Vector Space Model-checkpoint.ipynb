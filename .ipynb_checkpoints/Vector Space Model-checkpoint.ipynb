{
 "cells": [
  {
   "cell_type": "code",
   "execution_count": 11,
   "metadata": {},
   "outputs": [],
   "source": [
    "import math\n",
    "from nltk.corpus import stopwords\n",
    "from nltk.tokenize import word_tokenize\n",
    "stop_words = set(stopwords.words('english'))"
   ]
  },
  {
   "cell_type": "code",
   "execution_count": 12,
   "metadata": {},
   "outputs": [],
   "source": [
    "def readingfromfile():\n",
    "    FilesvsLines={}\n",
    "    NumOfFile=int(input(\"Enter Number Of Files You Will Enter : \"))\n",
    "    for x in range(0,NumOfFile):\n",
    "        NameOfFile=input(\"Enter Name of file : \")\n",
    "        File=open(NameOfFile+\".txt\",'r')\n",
    "        Lines = File.read().splitlines()\n",
    "        FilesvsLines[NameOfFile]=Lines\n",
    "        File.close()\n",
    "    return FilesvsLines,NumOfFile"
   ]
  },
  {
   "cell_type": "code",
   "execution_count": 13,
   "metadata": {},
   "outputs": [],
   "source": [
    "def SplitWords(Words):\n",
    "    TWords=[]\n",
    "    for Word in Words:\n",
    "        TWords.extend(word_tokenize(Word))\n",
    "    return TWords"
   ]
  },
  {
   "cell_type": "code",
   "execution_count": 14,
   "metadata": {},
   "outputs": [],
   "source": [
    "def RemoveStopWords(words):\n",
    "    filtered_sentence = []\n",
    "    for word in words:\n",
    "        if word not in stop_words:\n",
    "            filtered_sentence.append(word.capitalize())\n",
    "    return filtered_sentence"
   ]
  },
  {
   "cell_type": "code",
   "execution_count": 15,
   "metadata": {},
   "outputs": [],
   "source": [
    "def PreprocessingDocuments():\n",
    "    FilesvsLines,NumOfDocuments=readingfromfile()\n",
    "    for key ,value in FilesvsLines.items():\n",
    "        FilesvsLines[key]=RemoveStopWords(SplitWords(value))\n",
    "    return FilesvsLines,NumOfDocuments"
   ]
  },
  {
   "cell_type": "code",
   "execution_count": 65,
   "metadata": {},
   "outputs": [
    {
     "name": "stdout",
     "output_type": "stream",
     "text": [
      "Enter Number Of Files You Will Enter : 3\n",
      "Enter Name of file : DOC1\n",
      "Enter Name of file : DOC2\n",
      "Enter Name of file : DOC3\n"
     ]
    }
   ],
   "source": [
    "FilesvsLines,NumOfDocuments=PreprocessingDocuments()"
   ]
  },
  {
   "cell_type": "code",
   "execution_count": 75,
   "metadata": {},
   "outputs": [],
   "source": [
    "def create2DArray(FilesvsLines):\n",
    "    array=[]\n",
    "    WordsVSTF={}\n",
    "    for key in FilesvsLines:\n",
    "        for value in FilesvsLines[key]:\n",
    "            array.append(value)\n",
    "    vac=sorted(list(set(array)))\n",
    "    for  x in vac:\n",
    "        for value in FilesvsLines.values():\n",
    "            if(x in value):\n",
    "                if (x in WordsVSTF.keys()):\n",
    "                    WordsVSTF[x].append(1)\n",
    "                else:\n",
    "                    WordsVSTF[x]=[1]\n",
    "            else:\n",
    "                if (x in WordsVSTF.keys()):\n",
    "                    WordsVSTF[x].append(0)\n",
    "                else:\n",
    "                    WordsVSTF[x]=[0]\n",
    "    return WordsVSTF"
   ]
  },
  {
   "cell_type": "code",
   "execution_count": 76,
   "metadata": {},
   "outputs": [
    {
     "name": "stdout",
     "output_type": "stream",
     "text": [
      "{'Angeles': [0, 0, 1], 'Los': [0, 0, 1], 'New': [1, 1, 0], 'Post': [0, 1, 0], 'Times': [1, 0, 1], 'York': [1, 1, 0]}\n"
     ]
    }
   ],
   "source": [
    "WordsVSTF=create2DArray(FilesvsLines)\n",
    "print(WordsVSTF)"
   ]
  },
  {
   "cell_type": "code",
   "execution_count": 77,
   "metadata": {},
   "outputs": [],
   "source": [
    "def CalculateIDF(WordsVSTFIDF,NumOfDocuments):\n",
    "    DICTOfIDF={}\n",
    "    for key,value in WordsVSTFIDF.items():\n",
    "        sumo=0\n",
    "        for x in value:\n",
    "            sumo=sumo+x\n",
    "        nsumo=N/sumo\n",
    "        idf=math.log10(nsumo)\n",
    "        DICTOfIDF[key]=idf\n",
    "        value=list(map(lambda x: x*idf,value))\n",
    "        WordsVSTFIDF[key]=value\n",
    "    print(WordsVSTFIDF)\n",
    "    return WordsVSTFIDF,DICTOfIDF"
   ]
  },
  {
   "cell_type": "code",
   "execution_count": 78,
   "metadata": {},
   "outputs": [
    {
     "name": "stdout",
     "output_type": "stream",
     "text": [
      "{'Angeles': [0.0, 0.0, 0.47712125471966244], 'Los': [0.0, 0.0, 0.47712125471966244], 'New': [0.17609125905568124, 0.17609125905568124, 0.0], 'Post': [0.0, 0.47712125471966244, 0.0], 'Times': [0.17609125905568124, 0.0, 0.17609125905568124], 'York': [0.17609125905568124, 0.17609125905568124, 0.0]}\n",
      "{'Angeles': [0.0, 0.0, 0.47712125471966244], 'Los': [0.0, 0.0, 0.47712125471966244], 'New': [0.17609125905568124, 0.17609125905568124, 0.0], 'Post': [0.0, 0.47712125471966244, 0.0], 'Times': [0.17609125905568124, 0.0, 0.17609125905568124], 'York': [0.17609125905568124, 0.17609125905568124, 0.0]}\n",
      "{'Angeles': 0.47712125471966244, 'Los': 0.47712125471966244, 'New': 0.17609125905568124, 'Post': 0.47712125471966244, 'Times': 0.17609125905568124, 'York': 0.17609125905568124}\n"
     ]
    }
   ],
   "source": [
    "WordsVSTFIDF,DICTOfIDF=CalculateIDF(WordsVSTF,NumOfDocuments)\n",
    "print(WordsVSTFIDF)\n",
    "print(DICTOfIDF)"
   ]
  },
  {
   "cell_type": "code",
   "execution_count": null,
   "metadata": {},
   "outputs": [],
   "source": [
    "def CalculateLengthOfDocuments(WordsVSTFIDF,NumOfDocuments):\n",
    "    LengthOfDocuments=[]\n",
    "    for i in range(0,NumOfDocuments):\n",
    "        sumo=0\n",
    "        for values in WordsVSTFIDF.values():\n",
    "            sumo+=math.pow(values[i],2)\n",
    "        LengthOfDocuments.append(math.sqrt(sumo))\n",
    "    print(LengthOfDocuments)"
   ]
  },
  {
   "cell_type": "code",
   "execution_count": null,
   "metadata": {},
   "outputs": [],
   "source": [
    "CalculateLengthOfDocuments"
   ]
  },
  {
   "cell_type": "markdown",
   "metadata": {},
   "source": [
    "# Query Preprocessing"
   ]
  },
  {
   "cell_type": "code",
   "execution_count": 61,
   "metadata": {},
   "outputs": [],
   "source": [
    "def QueryPreprocessing(WordsVSIDF):\n",
    "    query=input(\"Enter Your Query : \")\n",
    "    queryterm=removeStopWords(query.split(\" \"))\n",
    "    for WordsVSIDF\n",
    "    print(newquery)"
   ]
  },
  {
   "cell_type": "code",
   "execution_count": 62,
   "metadata": {},
   "outputs": [
    {
     "name": "stdout",
     "output_type": "stream",
     "text": [
      "Enter Your Query : this new newe\n",
      "['New', 'Newe']\n"
     ]
    }
   ],
   "source": [
    "QueryPreprocessing(N)"
   ]
  },
  {
   "cell_type": "code",
   "execution_count": null,
   "metadata": {},
   "outputs": [],
   "source": []
  }
 ],
 "metadata": {
  "kernelspec": {
   "display_name": "Python 3",
   "language": "python",
   "name": "python3"
  },
  "language_info": {
   "codemirror_mode": {
    "name": "ipython",
    "version": 3
   },
   "file_extension": ".py",
   "mimetype": "text/x-python",
   "name": "python",
   "nbconvert_exporter": "python",
   "pygments_lexer": "ipython3",
   "version": "3.6.5"
  }
 },
 "nbformat": 4,
 "nbformat_minor": 2
}
